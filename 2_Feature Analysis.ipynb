{
 "cells": [
  {
   "cell_type": "markdown",
   "id": "de501f8e",
   "metadata": {},
   "source": [
    "### Cybersecurity Regression Datasets\n",
    "\n",
    "This repository provides two synthetic datasets designed for regression modeling tasks in the cybersecurity domain. Each dataset includes **1,000 samples** with clearly defined data-generating processes and added Gaussian noise.\n",
    "\n",
    "---\n",
    "\n",
    "### Dataset B: Three Features\n",
    "\n",
    "**File:** `cyber_risk_3features.csv`\n",
    "\n",
    "- **Features:**\n",
    "  - `failed_login_attempts` (integer): Same distribution as in Dataset A (Poisson λ = 2, truncated at [0, 20]).  \n",
    "  - `password_age_days` (float): Days since the last password change, sampled from a Uniform(0, 365).  \n",
    "  - `phishing_click_rate` (float): Simulated proportion of phishing links clicked, drawn from a Beta(2, 8) distribution.\n",
    "\n",
    "- **Target (risk_score):**  \n",
    "  Defined by the following regression model with an interaction term:\n",
    "\n",
    "  \\[\n",
    "  \\text{risk\\_score} = 10 + 2.5x_1 + 0.02x_2 + 20x_3 + 0.5(x_1 \\cdot x_3) + \\varepsilon,\n",
    "  \\quad \\varepsilon \\sim \\mathcal{N}(0, 3^2)\n",
    "  \\]\n",
    "\n",
    "  where \\(x_1 =\\) failed login attempts, \\(x_2 =\\) password age in days, and \\(x_3 =\\) phishing click rate.  \n",
    "  Values are clipped to [0, 100].\n",
    "\n",
    "---\n"
   ]
  },
  {
   "cell_type": "markdown",
   "id": "f8c25d3b",
   "metadata": {},
   "source": [
    "## Linear Regression w/o sklearn"
   ]
  },
  {
   "cell_type": "code",
   "execution_count": 1,
   "id": "ba8b6749",
   "metadata": {},
   "outputs": [],
   "source": [
    "import pandas as pd\n",
    "from sklearn.linear_model import LinearRegression\n",
    "from sklearn.model_selection import train_test_split\n",
    "from sklearn.metrics import mean_squared_error\n",
    "import numpy as np\n",
    "\n",
    "# 데이터 불러오기\n",
    "path = \"./data/cyber_risk_3features.csv\"\n",
    "df = pd.read_csv(path)\n",
    "\n",
    "# 세 개의 feature 선택\n",
    "feature_cols = [\"failed_login_attempts\", \"password_age_days\", \"phishing_click_rate\"]\n",
    "target_col = \"risk_score\"\n",
    "\n",
    "# Feature와 Target 분리\n",
    "X = df[feature_cols].values\n",
    "y = df[target_col].values\n",
    "\n",
    "# 1. Train-Test Split (예: 80% train, 20% test)\n",
    "X_train, X_test, y_train, y_test = train_test_split(\n",
    "    X, y, test_size=0.2, random_state=42\n",
    ")"
   ]
  },
  {
   "cell_type": "code",
   "execution_count": 2,
   "id": "1dc0c10c",
   "metadata": {},
   "outputs": [],
   "source": [
    "import numpy as np"
   ]
  },
  {
   "cell_type": "code",
   "execution_count": 3,
   "id": "c5f0d230",
   "metadata": {},
   "outputs": [
    {
     "name": "stdout",
     "output_type": "stream",
     "text": [
      "Normal equation coefficients (β):\n",
      "  intercept: 9.478211450864045\n",
      "  failed_login_attempts: 2.7224997006270457\n",
      "  password_age_days: 0.02133729769244556\n",
      "  phishing_click_rate: 20.21359815073925\n"
     ]
    }
   ],
   "source": [
    "ones = np.ones((X_train.shape[0], 1))\n",
    "A = np.hstack([ones, X_train])\n",
    "b = y_train.reshape(-1, 1)\n",
    "ATA = A.T @ A\n",
    "P = np.linalg.inv(ATA) @ A.T\n",
    "x = P @ b\n",
    "\n",
    "print(\"Normal equation coefficients (β):\")\n",
    "print(f\"  intercept: {x[0,0]}\")\n",
    "for name, coef in zip(feature_cols, x[1:,0]):\n",
    "    print(f\"  {name}: {coef}\")"
   ]
  },
  {
   "cell_type": "code",
   "execution_count": 4,
   "id": "40a9a649",
   "metadata": {},
   "outputs": [
    {
     "name": "stdout",
     "output_type": "stream",
     "text": [
      "     0    1    2    3\n",
      "0  1.0  0.0  0.0  0.0\n",
      "1 -0.0  1.0 -0.0 -0.0\n",
      "2 -0.0  0.0  1.0 -0.0\n",
      "3 -0.0  0.0  0.0  1.0\n"
     ]
    }
   ],
   "source": [
    "M = np.linalg.inv(ATA) @ ATA\n",
    "\n",
    "# DataFrame으로 보기 좋게 출력\n",
    "df = pd.DataFrame(M)\n",
    "print(df.round(3))  # 소수점 3자리"
   ]
  },
  {
   "cell_type": "markdown",
   "id": "f48caa9d",
   "metadata": {},
   "source": [
    "## Linear Regression w/ Multicollinearity"
   ]
  },
  {
   "cell_type": "code",
   "execution_count": 5,
   "id": "95459c91",
   "metadata": {},
   "outputs": [],
   "source": [
    "import pandas as pd\n",
    "from sklearn.linear_model import LinearRegression\n",
    "from sklearn.model_selection import train_test_split\n",
    "from sklearn.metrics import mean_squared_error\n",
    "import numpy as np\n",
    "\n",
    "# 데이터 불러오기\n",
    "path = \"./data/cyber_risk_3features.csv\"\n",
    "df = pd.read_csv(path)\n",
    "\n",
    "# 세 개의 feature 선택\n",
    "feature_cols = [\"failed_login_attempts\", \"password_age_days\", \"phishing_click_rate\"]\n",
    "target_col = \"risk_score\""
   ]
  },
  {
   "cell_type": "code",
   "execution_count": 6,
   "id": "1c7c9df7",
   "metadata": {},
   "outputs": [
    {
     "data": {
      "text/html": [
       "<div>\n",
       "<style scoped>\n",
       "    .dataframe tbody tr th:only-of-type {\n",
       "        vertical-align: middle;\n",
       "    }\n",
       "\n",
       "    .dataframe tbody tr th {\n",
       "        vertical-align: top;\n",
       "    }\n",
       "\n",
       "    .dataframe thead th {\n",
       "        text-align: right;\n",
       "    }\n",
       "</style>\n",
       "<table border=\"1\" class=\"dataframe\">\n",
       "  <thead>\n",
       "    <tr style=\"text-align: right;\">\n",
       "      <th></th>\n",
       "      <th>failed_login_attempts</th>\n",
       "      <th>password_age_days</th>\n",
       "      <th>phishing_click_rate</th>\n",
       "    </tr>\n",
       "  </thead>\n",
       "  <tbody>\n",
       "    <tr>\n",
       "      <th>0</th>\n",
       "      <td>0</td>\n",
       "      <td>355.787157</td>\n",
       "      <td>0.211141</td>\n",
       "    </tr>\n",
       "    <tr>\n",
       "      <th>1</th>\n",
       "      <td>1</td>\n",
       "      <td>88.139501</td>\n",
       "      <td>0.245941</td>\n",
       "    </tr>\n",
       "    <tr>\n",
       "      <th>2</th>\n",
       "      <td>3</td>\n",
       "      <td>263.920947</td>\n",
       "      <td>0.348929</td>\n",
       "    </tr>\n",
       "    <tr>\n",
       "      <th>3</th>\n",
       "      <td>1</td>\n",
       "      <td>209.474702</td>\n",
       "      <td>0.200946</td>\n",
       "    </tr>\n",
       "    <tr>\n",
       "      <th>4</th>\n",
       "      <td>2</td>\n",
       "      <td>254.357568</td>\n",
       "      <td>0.137828</td>\n",
       "    </tr>\n",
       "  </tbody>\n",
       "</table>\n",
       "</div>"
      ],
      "text/plain": [
       "   failed_login_attempts  password_age_days  phishing_click_rate\n",
       "0                      0         355.787157             0.211141\n",
       "1                      1          88.139501             0.245941\n",
       "2                      3         263.920947             0.348929\n",
       "3                      1         209.474702             0.200946\n",
       "4                      2         254.357568             0.137828"
      ]
     },
     "execution_count": 6,
     "metadata": {},
     "output_type": "execute_result"
    }
   ],
   "source": [
    "# Feature와 Target 분리\n",
    "X = df[feature_cols]\n",
    "X.head()"
   ]
  },
  {
   "cell_type": "code",
   "execution_count": 7,
   "id": "a557fd2e",
   "metadata": {},
   "outputs": [
    {
     "data": {
      "text/html": [
       "<div>\n",
       "<style scoped>\n",
       "    .dataframe tbody tr th:only-of-type {\n",
       "        vertical-align: middle;\n",
       "    }\n",
       "\n",
       "    .dataframe tbody tr th {\n",
       "        vertical-align: top;\n",
       "    }\n",
       "\n",
       "    .dataframe thead th {\n",
       "        text-align: right;\n",
       "    }\n",
       "</style>\n",
       "<table border=\"1\" class=\"dataframe\">\n",
       "  <thead>\n",
       "    <tr style=\"text-align: right;\">\n",
       "      <th></th>\n",
       "      <th>failed_login_attempts</th>\n",
       "      <th>password_age_days</th>\n",
       "      <th>phishing_click_rate</th>\n",
       "      <th>fake_col</th>\n",
       "    </tr>\n",
       "  </thead>\n",
       "  <tbody>\n",
       "    <tr>\n",
       "      <th>0</th>\n",
       "      <td>0</td>\n",
       "      <td>355.787157</td>\n",
       "      <td>0.211141</td>\n",
       "      <td>0.211141</td>\n",
       "    </tr>\n",
       "    <tr>\n",
       "      <th>1</th>\n",
       "      <td>1</td>\n",
       "      <td>88.139501</td>\n",
       "      <td>0.245941</td>\n",
       "      <td>1.245941</td>\n",
       "    </tr>\n",
       "    <tr>\n",
       "      <th>2</th>\n",
       "      <td>3</td>\n",
       "      <td>263.920947</td>\n",
       "      <td>0.348929</td>\n",
       "      <td>3.348929</td>\n",
       "    </tr>\n",
       "    <tr>\n",
       "      <th>3</th>\n",
       "      <td>1</td>\n",
       "      <td>209.474702</td>\n",
       "      <td>0.200946</td>\n",
       "      <td>1.200946</td>\n",
       "    </tr>\n",
       "    <tr>\n",
       "      <th>4</th>\n",
       "      <td>2</td>\n",
       "      <td>254.357568</td>\n",
       "      <td>0.137828</td>\n",
       "      <td>2.137828</td>\n",
       "    </tr>\n",
       "  </tbody>\n",
       "</table>\n",
       "</div>"
      ],
      "text/plain": [
       "   failed_login_attempts  password_age_days  phishing_click_rate  fake_col\n",
       "0                      0         355.787157             0.211141  0.211141\n",
       "1                      1          88.139501             0.245941  1.245941\n",
       "2                      3         263.920947             0.348929  3.348929\n",
       "3                      1         209.474702             0.200946  1.200946\n",
       "4                      2         254.357568             0.137828  2.137828"
      ]
     },
     "execution_count": 7,
     "metadata": {},
     "output_type": "execute_result"
    }
   ],
   "source": [
    "X['fake_col'] = X['failed_login_attempts'] + X['phishing_click_rate']\n",
    "feature_cols += ['fake_col']\n",
    "X.head()"
   ]
  },
  {
   "cell_type": "code",
   "execution_count": 8,
   "id": "07d04df8",
   "metadata": {},
   "outputs": [],
   "source": [
    "X = X.values\n",
    "y = df[target_col].values\n",
    "\n",
    "# 1. Train-Test Split (예: 80% train, 20% test)\n",
    "X_train, X_test, y_train, y_test = train_test_split(\n",
    "    X, y, test_size=0.2, random_state=42\n",
    ")"
   ]
  },
  {
   "cell_type": "code",
   "execution_count": 9,
   "id": "9e99655f",
   "metadata": {},
   "outputs": [
    {
     "name": "stdout",
     "output_type": "stream",
     "text": [
      "\n",
      "=== Linear Regression (Normal Equation) 결과 ===\n",
      "  intercept: 9.924000642846305\n",
      "  failed_login_attempts: 0.9655003687606164\n",
      "  password_age_days: 0.021298301273648297\n",
      "  phishing_click_rate: 16.205202531361472\n",
      "  fake_col: 2.701585503370397\n"
     ]
    }
   ],
   "source": [
    "# Design matrix 생성 (intercept 추가)\n",
    "ones = np.ones((X_train.shape[0], 1))\n",
    "A = np.hstack([ones, X_train])\n",
    "b = y_train.reshape(-1, 1)\n",
    "\n",
    "# Normal Equation: (A^T A)^(-1) A^T b\n",
    "ATA = A.T @ A\n",
    "P = np.linalg.inv(ATA) @ A.T\n",
    "x = P @ b\n",
    "\n",
    "print(\"\\n=== Linear Regression (Normal Equation) 결과 ===\")\n",
    "print(f\"  intercept: {x[0,0]}\")\n",
    "for name, coef in zip(feature_cols, x[1:,0]):\n",
    "    print(f\"  {name}: {coef}\")"
   ]
  },
  {
   "cell_type": "code",
   "execution_count": 10,
   "id": "170f2a61",
   "metadata": {},
   "outputs": [
    {
     "data": {
      "text/plain": [
       "(800, 5)"
      ]
     },
     "execution_count": 10,
     "metadata": {},
     "output_type": "execute_result"
    }
   ],
   "source": [
    "A.shape"
   ]
  },
  {
   "cell_type": "code",
   "execution_count": 13,
   "id": "3f09c937",
   "metadata": {},
   "outputs": [
    {
     "data": {
      "text/plain": [
       "np.float64(470.5473364724547)"
      ]
     },
     "execution_count": 13,
     "metadata": {},
     "output_type": "execute_result"
    }
   ],
   "source": [
    "np.linalg.det(ATA) # Wrong Answer due to float point error."
   ]
  },
  {
   "cell_type": "code",
   "execution_count": 15,
   "id": "48da2579",
   "metadata": {},
   "outputs": [
    {
     "data": {
      "text/plain": [
       "np.int64(4)"
      ]
     },
     "execution_count": 15,
     "metadata": {},
     "output_type": "execute_result"
    }
   ],
   "source": [
    "np.linalg.matrix_rank(ATA)"
   ]
  },
  {
   "cell_type": "code",
   "execution_count": 12,
   "id": "0440d8dd",
   "metadata": {},
   "outputs": [
    {
     "name": "stdout",
     "output_type": "stream",
     "text": [
      "       0      1       2      3      4\n",
      "0  1.017  0.058   3.204  0.003  0.061\n",
      "1  0.062  1.000   0.000  0.016  0.000\n",
      "2 -0.000 -0.000   1.000 -0.000 -0.000\n",
      "3 -0.062  0.000 -16.000  0.984  0.000\n",
      "4 -0.062  0.000   0.000  0.016  0.750\n"
     ]
    }
   ],
   "source": [
    "M = np.linalg.inv(ATA) @ ATA\n",
    "\n",
    "# DataFrame으로 보기 좋게 출력\n",
    "df = pd.DataFrame(M)\n",
    "print(df.round(3))  # 소수점 3자리"
   ]
  }
 ],
 "metadata": {
  "kernelspec": {
   "display_name": "Python 3 (ipykernel)",
   "language": "python",
   "name": "python3"
  },
  "language_info": {
   "codemirror_mode": {
    "name": "ipython",
    "version": 3
   },
   "file_extension": ".py",
   "mimetype": "text/x-python",
   "name": "python",
   "nbconvert_exporter": "python",
   "pygments_lexer": "ipython3",
   "version": "3.11.13"
  }
 },
 "nbformat": 4,
 "nbformat_minor": 5
}
